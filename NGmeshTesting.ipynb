{
 "cells": [
  {
   "cell_type": "code",
   "execution_count": 1,
   "id": "70e34bae",
   "metadata": {},
   "outputs": [],
   "source": [
    "# import netgen.gui\n",
    "from netgen.meshing import *"
   ]
  },
  {
   "cell_type": "code",
   "execution_count": 2,
   "id": "09c037b0",
   "metadata": {},
   "outputs": [],
   "source": [
    "m = Mesh(dim=1)"
   ]
  },
  {
   "cell_type": "code",
   "execution_count": 3,
   "id": "9a380c0f",
   "metadata": {},
   "outputs": [
    {
     "data": {
      "text/plain": [
       "netgen.libngpy._meshing.PointId"
      ]
     },
     "execution_count": 3,
     "metadata": {},
     "output_type": "execute_result"
    }
   ],
   "source": [
    "N = 10\n",
    "pnums = []\n",
    "for i in range(0, N+1):\n",
    "    pnums.append (m.Add (MeshPoint (Pnt(i/N, 0, 0))))\n",
    "\n",
    "type(pnums[0])"
   ]
  },
  {
   "cell_type": "code",
   "execution_count": 4,
   "id": "ab7099dc",
   "metadata": {},
   "outputs": [],
   "source": [
    "idx = m.AddRegion(\"material\", dim=1)\n",
    "for i in range(0,N):\n",
    "    m.Add (Element1D ([pnums[i],pnums[i+1]], index=idx))"
   ]
  },
  {
   "cell_type": "code",
   "execution_count": 5,
   "id": "50755122",
   "metadata": {},
   "outputs": [
    {
     "data": {
      "text/plain": [
       "1"
      ]
     },
     "execution_count": 5,
     "metadata": {},
     "output_type": "execute_result"
    }
   ],
   "source": [
    "idx_left = m.AddRegion(\"left\", dim=0)\n",
    "idx_right = m.AddRegion(\"right\", dim=0)\n",
    "\n",
    "m.Add (Element0D (pnums[0], index=idx_left))\n",
    "m.Add (Element0D (pnums[N], index=idx_right))"
   ]
  },
  {
   "cell_type": "code",
   "execution_count": 6,
   "id": "f1743744",
   "metadata": {},
   "outputs": [],
   "source": [
    "from netgen.geom2d import unit_square"
   ]
  },
  {
   "cell_type": "code",
   "execution_count": 7,
   "id": "8ae61ece",
   "metadata": {},
   "outputs": [],
   "source": [
    "ngmesh = Mesh(dim=2)"
   ]
  },
  {
   "cell_type": "code",
   "execution_count": 8,
   "id": "ae03b598",
   "metadata": {},
   "outputs": [],
   "source": [
    "N=5\n",
    "pnums = []\n",
    "for i in range(N + 1):\n",
    "    for j in range(N + 1):\n",
    "        pnums.append(ngmesh.Add(MeshPoint(Pnt(i / N, j / N, 0))))"
   ]
  },
  {
   "cell_type": "code",
   "execution_count": 9,
   "id": "9a915cd4",
   "metadata": {},
   "outputs": [],
   "source": [
    "idx_dom = ngmesh.AddRegion(\"mat\", dim=2)\n",
    "for j in range(N):\n",
    "    for i in range(N):\n",
    "        ngmesh.Add(Element2D(idx_dom, [pnums[i + j * (N + 1)],\n",
    "                               pnums[i + (j + 1) * (N + 1)],\n",
    "                               pnums[i + 1 + (j + 1) * (N + 1)],\n",
    "                               pnums[i + 1 + j * (N + 1)]]))"
   ]
  },
  {
   "cell_type": "code",
   "execution_count": 10,
   "id": "45971e50",
   "metadata": {},
   "outputs": [],
   "source": [
    "# horizontal boundaries\n",
    "for i in range(N):\n",
    "   ngmesh.Add(Element1D([pnums[N + i * (N + 1)],\n",
    "                       pnums[N + (i + 1) * (N + 1)]], index=1))\n",
    "   ngmesh.Add(Element1D([pnums[0 + i * (N + 1)], pnums[0 + (i + 1) * (N + 1)]], index=1))\n",
    "\n",
    "# vertical boundaries\n",
    "for i in range(N):\n",
    "   ngmesh.Add(Element1D([pnums[i], pnums[i + 1]], index=2))\n",
    "   ngmesh.Add(Element1D([pnums[i + N * (N + 1)], pnums[i + 1 + N * (N + 1)]], index=2))"
   ]
  },
  {
   "cell_type": "code",
   "execution_count": 11,
   "id": "f6155c5a",
   "metadata": {},
   "outputs": [
    {
     "data": {
      "application/vnd.jupyter.widget-view+json": {
       "model_id": "3be9ebc96e39470ebf723b795ae56c70",
       "version_major": 2,
       "version_minor": 0
      },
      "text/plain": [
       "WebGuiWidget(layout=Layout(height='500px', width='100%'), value={'gui_settings': {}, 'ngsolve_version': '6.2.2…"
      ]
     },
     "metadata": {},
     "output_type": "display_data"
    },
    {
     "ename": "NgException",
     "evalue": "Nothing known about format.stp",
     "output_type": "error",
     "traceback": [
      "\u001b[1;31m---------------------------------------------------------------------------\u001b[0m",
      "\u001b[1;31mNgException\u001b[0m                               Traceback (most recent call last)",
      "Cell \u001b[1;32mIn[11], line 5\u001b[0m\n\u001b[0;32m      3\u001b[0m mesh \u001b[38;5;241m=\u001b[39m Mesh(ngmesh)\n\u001b[0;32m      4\u001b[0m Draw(mesh)\n\u001b[1;32m----> 5\u001b[0m \u001b[43mngmesh\u001b[49m\u001b[38;5;241;43m.\u001b[39;49m\u001b[43mExport\u001b[49m\u001b[43m(\u001b[49m\u001b[38;5;124;43m\"\u001b[39;49m\u001b[38;5;124;43mmesh\u001b[39;49m\u001b[38;5;124;43m\"\u001b[39;49m\u001b[43m,\u001b[49m\u001b[43m \u001b[49m\u001b[38;5;124;43m\"\u001b[39;49m\u001b[38;5;124;43m.stp\u001b[39;49m\u001b[38;5;124;43m\"\u001b[39;49m\u001b[43m)\u001b[49m\n",
      "\u001b[1;31mNgException\u001b[0m: Nothing known about format.stp"
     ]
    }
   ],
   "source": [
    "from ngsolve.webgui import Draw\n",
    "from ngsolve import Mesh\n",
    "mesh = Mesh(ngmesh)\n",
    "Draw(mesh)\n",
    "ngmesh.Export(\"mesh\", \".stp\")"
   ]
  },
  {
   "cell_type": "code",
   "execution_count": 24,
   "id": "8ab2b58b",
   "metadata": {},
   "outputs": [
    {
     "data": {
      "text/plain": [
       "<bound method PyCapsule.BBBoundaries of <ngsolve.comp.Mesh object at 0x00000221922483B0>>"
      ]
     },
     "execution_count": 24,
     "metadata": {},
     "output_type": "execute_result"
    }
   ],
   "source": [
    "mesh.BBBoundaries"
   ]
  },
  {
   "cell_type": "code",
   "execution_count": 12,
   "id": "29f586f2",
   "metadata": {},
   "outputs": [
    {
     "data": {
      "application/vnd.jupyter.widget-view+json": {
       "model_id": "94c24ea64b4345d48534abfa10417901",
       "version_major": 2,
       "version_minor": 0
      },
      "text/plain": [
       "WebGuiWidget(layout=Layout(height='500px', width='100%'), value={'ngsolve_version': 'Netgen x.x', 'mesh_dim': …"
      ]
     },
     "metadata": {},
     "output_type": "display_data"
    },
    {
     "data": {
      "text/plain": [
       "BaseWebGuiScene"
      ]
     },
     "execution_count": 12,
     "metadata": {},
     "output_type": "execute_result"
    }
   ],
   "source": [
    "from netgen.occ import *\n",
    "from ngsolve import *\n",
    "from ngsolve.webgui import Draw\n",
    "shape = Box( (0,0,0), (5,3,2) )\n",
    "shape.faces.Max(X).name=\"right\"\n",
    "Draw (shape)"
   ]
  },
  {
   "cell_type": "code",
   "execution_count": 13,
   "id": "d23c7876",
   "metadata": {},
   "outputs": [
    {
     "name": "stdout",
     "output_type": "stream",
     "text": [
      "Everything good!\n"
     ]
    }
   ],
   "source": [
    "try:\n",
    "    import webgui_jupyter_widgets\n",
    "    from packaging.version import parse\n",
    "    assert parse(webgui_jupyter_widgets.__version__) >= parse(\"0.2.18\")\n",
    "    print('Everything good!')\n",
    "except:\n",
    "    print(\"\\x1b[31mYou need to update webgui_jupyter_widgets by running: \\x1b[0m\\npython3 -m pip install --upgrade webgui_jupyter_widgets\")"
   ]
  },
  {
   "cell_type": "code",
   "execution_count": 14,
   "id": "f3e5d633",
   "metadata": {},
   "outputs": [
    {
     "name": "stdout",
     "output_type": "stream",
     "text": [
      "Help on function Draw in module netgen.webgui:\n",
      "\n",
      "Draw(obj, *args, show=True, **kwargs)\n",
      "\n"
     ]
    }
   ],
   "source": [
    "from netgen.csg import unit_cube\n",
    "from ngsolve import *\n",
    "from ngsolve.webgui import Draw\n",
    "m = Mesh(unit_cube.GenerateMesh(maxh=0.2))\n",
    "help(Draw)"
   ]
  },
  {
   "cell_type": "code",
   "execution_count": 15,
   "id": "00c00e9e",
   "metadata": {},
   "outputs": [
    {
     "data": {
      "application/vnd.jupyter.widget-view+json": {
       "model_id": "ebf32be1dd1746daaf55d6ba9755c9c8",
       "version_major": 2,
       "version_minor": 0
      },
      "text/plain": [
       "WebGuiWidget(layout=Layout(height='500px', width='100%'), value={'gui_settings': {'Objects': {'Edges': False, …"
      ]
     },
     "metadata": {},
     "output_type": "display_data"
    },
    {
     "data": {
      "text/plain": [
       "BaseWebGuiScene"
      ]
     },
     "execution_count": 15,
     "metadata": {},
     "output_type": "execute_result"
    }
   ],
   "source": [
    "lines = { \"type\": \"lines\", \"position\": [0,0,0, 1,1,1, 1,0,0, 0,0,1], \"name\": \"my lines\", \"color\": \"red\"}\n",
    "points = { \"type\": \"points\", \"position\": [0.5, 0.5, 0.5, 1.1,1,1], \"size\":20, \"color\": \"blue\", \"name\": \"my points\"}\n",
    "text = { \"type\": \"text\", \"name\": \"my text\", \"text\": \"hello!\", \"position\": [1.3,0,0]}\n",
    "Draw(m, objects=[lines,points, text], settings={\"Objects\": {\"Edges\": False, \"Surface\": False}})\n"
   ]
  },
  {
   "cell_type": "code",
   "execution_count": 16,
   "id": "cee558bd",
   "metadata": {},
   "outputs": [
    {
     "data": {
      "application/vnd.jupyter.widget-view+json": {
       "model_id": "7603e6128ad542028d645bd117fa9ea1",
       "version_major": 2,
       "version_minor": 0
      },
      "text/plain": [
       "WebGuiWidget(layout=Layout(height='500px', width='100%'), value={'gui_settings': {}, 'ngsolve_version': '6.2.2…"
      ]
     },
     "metadata": {},
     "output_type": "display_data"
    }
   ],
   "source": [
    "func = x*y*z\n",
    "Draw (func, mesh);"
   ]
  },
  {
   "cell_type": "code",
   "execution_count": 18,
   "id": "17f3d361",
   "metadata": {},
   "outputs": [
    {
     "data": {
      "application/vnd.jupyter.widget-view+json": {
       "model_id": "32547f1c5ff745ae97c898d8de76e30d",
       "version_major": 2,
       "version_minor": 0
      },
      "text/plain": [
       "WebGuiWidget(layout=Layout(height='500px', width='100%'), value={'gui_settings': {}, 'ngsolve_version': '6.2.2…"
      ]
     },
     "metadata": {},
     "output_type": "display_data"
    }
   ],
   "source": [
    "Draw (x*y*z, mesh, min=5, max=100);"
   ]
  },
  {
   "cell_type": "code",
   "execution_count": 19,
   "id": "38c49b4d",
   "metadata": {},
   "outputs": [
    {
     "data": {
      "application/vnd.jupyter.widget-view+json": {
       "model_id": "e5b5bdbb34dd427086eee89dac056572",
       "version_major": 2,
       "version_minor": 0
      },
      "text/plain": [
       "WebGuiWidget(layout=Layout(height='500px', width='100%'), value={'gui_settings': {}, 'ngsolve_version': '6.2.2…"
      ]
     },
     "metadata": {},
     "output_type": "display_data"
    },
    {
     "name": "stdout",
     "output_type": "stream",
     "text": [
      "use deformation slider:\n"
     ]
    },
    {
     "data": {
      "application/vnd.jupyter.widget-view+json": {
       "model_id": "715c69e988734d7690a4a47a3b1f2c31",
       "version_major": 2,
       "version_minor": 0
      },
      "text/plain": [
       "WebGuiWidget(layout=Layout(height='500px', width='100%'), value={'gui_settings': {}, 'ngsolve_version': '6.2.2…"
      ]
     },
     "metadata": {},
     "output_type": "display_data"
    }
   ],
   "source": [
    "deform = CF( (-0.05*z*x,0,0.05*x*x) )\n",
    "Draw (mesh, deformation=deform);\n",
    "\n",
    "print (\"use deformation slider:\")\n",
    "Draw (deform, mesh);"
   ]
  },
  {
   "cell_type": "code",
   "execution_count": 20,
   "id": "4f12aff4",
   "metadata": {},
   "outputs": [
    {
     "data": {
      "application/vnd.jupyter.widget-view+json": {
       "model_id": "530d98cd71404113804e1324b6c10041",
       "version_major": 2,
       "version_minor": 0
      },
      "text/plain": [
       "WebGuiWidget(layout=Layout(height='500px', width='100%'), value={'gui_settings': {}, 'ngsolve_version': '6.2.2…"
      ]
     },
     "metadata": {},
     "output_type": "display_data"
    }
   ],
   "source": [
    "rotfunc = CF( (y-0.5, 0.5-x) )\n",
    "usmesh = Mesh(unit_square.GenerateMesh(maxh=0.1))\n",
    "Draw (rotfunc, usmesh, max=0.7,  vectors={\"grid_size\" : 20, \"offset\" : 0.5 } );"
   ]
  },
  {
   "cell_type": "code",
   "execution_count": null,
   "id": "5ea2fa6e",
   "metadata": {},
   "outputs": [],
   "source": []
  }
 ],
 "metadata": {
  "kernelspec": {
   "display_name": "Python 3",
   "language": "python",
   "name": "python3"
  },
  "language_info": {
   "codemirror_mode": {
    "name": "ipython",
    "version": 3
   },
   "file_extension": ".py",
   "mimetype": "text/x-python",
   "name": "python",
   "nbconvert_exporter": "python",
   "pygments_lexer": "ipython3",
   "version": "3.9.5"
  }
 },
 "nbformat": 4,
 "nbformat_minor": 5
}
