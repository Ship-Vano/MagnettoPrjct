{
 "cells": [
  {
   "cell_type": "code",
   "execution_count": 1,
   "metadata": {},
   "outputs": [],
   "source": [
    "from ngsolve import *\n",
    "from netgen.geom2d import unit_square\n",
    "mesh = Mesh(unit_square.GenerateMesh(maxh=0.2))\n",
    "fes = H1(mesh, order=2, dirichlet=\"bottom|right\")\n",
    "gfu = GridFunction(fes)\n",
    "a = BilinearForm(fes, symmetric=True)\n",
    "a += grad(fes.TrialFunction())*grad(fes.TestFunction())*dx\n",
    "a.Assemble()\n",
    "f = LinearForm(fes)\n",
    "f += x*fes.TestFunction()*dx\n",
    "f.Assemble()\n",
    "gfu.vec.data = a.mat.Inverse(freedofs=fes.FreeDofs()) * f.vec"
   ]
  },
  {
   "cell_type": "code",
   "execution_count": 2,
   "metadata": {},
   "outputs": [
    {
     "data": {
      "text/plain": [
       "'vtk_example1'"
      ]
     },
     "execution_count": 2,
     "metadata": {},
     "output_type": "execute_result"
    }
   ],
   "source": [
    "vtk = VTKOutput(mesh,coefs=[gfu],names=[\"sol\"],filename=\"vtk_example1\",subdivision=2)\n",
    "vtk.Do()"
   ]
  },
  {
   "cell_type": "code",
   "execution_count": 9,
   "metadata": {},
   "outputs": [],
   "source": [
    "from ngsolve.webgui import Draw\n",
    "#Draw(gfu)"
   ]
  },
  {
   "cell_type": "code",
   "execution_count": 4,
   "metadata": {},
   "outputs": [
    {
     "data": {
      "text/plain": [
       "<ngsolve.comp.MeshNodeRange at 0x1727175f930>"
      ]
     },
     "execution_count": 4,
     "metadata": {},
     "output_type": "execute_result"
    }
   ],
   "source": [
    "mesh.edges"
   ]
  },
  {
   "cell_type": "code",
   "execution_count": 4,
   "metadata": {},
   "outputs": [
    {
     "name": "stdout",
     "output_type": "stream",
     "text": [
      "<__main__.Edge object at 0x0000022FA9F28C40> -> Neighbors: [<__main__.Element object at 0x0000022FA9BB5E50>]\n",
      "<__main__.Edge object at 0x0000022FA9F28E80> -> Neighbors: [<__main__.Element object at 0x0000022FA8A08F10>]\n",
      "<__main__.Edge object at 0x0000022FA9F28A90> -> Neighbors: [<__main__.Element object at 0x0000022FA9BA0610>]\n",
      "<__main__.Edge object at 0x0000022FA9F28CA0> -> Neighbors: [<__main__.Element object at 0x0000022FA9BB5E50>]\n",
      "<__main__.Edge object at 0x0000022FA9F28AC0> -> Neighbors: [<__main__.Element object at 0x0000022FA9BA0610>]\n",
      "<__main__.Edge object at 0x0000022FA9F28D00> -> Neighbors: [<__main__.Element object at 0x0000022FA8A08F10>]\n",
      "<__main__.Edge object at 0x0000022FA9F28D60> -> Neighbors: [<__main__.Element object at 0x0000022FA8A08F10>]\n",
      "<__main__.Edge object at 0x0000022FA9F28B80> -> Neighbors: [<__main__.Element object at 0x0000022FA9BA0610>]\n",
      "<__main__.Edge object at 0x0000022FA9F28BE0> -> Neighbors: [<__main__.Element object at 0x0000022FA9BB5E50>]\n"
     ]
    }
   ],
   "source": [
    "class Element:\n",
    "    def __init__(self, node_indexes):\n",
    "        self.node_indexes = node_indexes\n",
    "        self.edges = []  # List to store edges in the element\n",
    "\n",
    "    def repr(self):\n",
    "        return f\"Element({self.node_indexes})\"\n",
    "\n",
    "class Edge:\n",
    "    def __init__(self, node1_index, node2_index):\n",
    "        # Ensure edge is stored in sorted order to avoid duplicates like (0, 1) and (1, 0)\n",
    "        self.node1_index = min(node1_index, node2_index)\n",
    "        self.node2_index = max(node1_index, node2_index)\n",
    "        self.neighbors = []  # List of neighboring elements that share this edge\n",
    "\n",
    "    def add_neighbor(self, element):\n",
    "        self.neighbors.append(element)\n",
    "\n",
    "    def repr(self):\n",
    "        return f\"Edge({self.node1_index}, {self.node2_index})\"\n",
    "\n",
    "    def eq(self, other):\n",
    "        return (self.node1_index == other.node1_index and self.node2_index == other.node2_index)\n",
    "\n",
    "    def hash(self):\n",
    "        return hash((self.node1_index, self.node2_index))\n",
    "\n",
    "class Edges:\n",
    "    def __init__(self):\n",
    "        self.edges = set()  # Using a set to automatically handle uniqueness\n",
    "\n",
    "    def add_edge(self, edge, element):\n",
    "        # Check if the edge already exists; if it does, just add the element as a neighbor\n",
    "        if edge not in self.edges:\n",
    "            self.edges.add(edge)\n",
    "        edge.add_neighbor(element)\n",
    "\n",
    "    def generate_edges_from_elements(self, elements):\n",
    "        for element in elements:\n",
    "            nodes = element.node_indexes\n",
    "            for i in range(len(nodes)):\n",
    "                node1 = nodes[i]\n",
    "                node2 = nodes[(i + 1) % len(nodes)]  # Wrap around to form a closed loop\n",
    "                edge = Edge(node1, node2)\n",
    "                self.add_edge(edge, element)\n",
    "\n",
    "    def repr(self):\n",
    "        return f\"Edges({list(self.edges)})\"\n",
    "\n",
    "# Example usage\n",
    "elements = [\n",
    "    Element([0, 1, 2]),  # A triangle with nodes 0, 1, 2\n",
    "    Element([2, 3, 4]),  # A triangle with nodes 2, 3, 4\n",
    "    Element([1, 2, 5])   # Another triangle with nodes 1, 2, 5\n",
    "]\n",
    "\n",
    "edges = Edges()\n",
    "edges.generate_edges_from_elements(elements)\n",
    "\n",
    "# Display the edges and their neighbors\n",
    "for edge in edges.edges:\n",
    "    print(f\"{edge} -> Neighbors: {edge.neighbors}\")"
   ]
  },
  {
   "cell_type": "code",
   "execution_count": null,
   "metadata": {},
   "outputs": [],
   "source": []
  }
 ],
 "metadata": {
  "kernelspec": {
   "display_name": "Python 3",
   "language": "python",
   "name": "python3"
  },
  "language_info": {
   "codemirror_mode": {
    "name": "ipython",
    "version": 3
   },
   "file_extension": ".py",
   "mimetype": "text/x-python",
   "name": "python",
   "nbconvert_exporter": "python",
   "pygments_lexer": "ipython3",
   "version": "3.9.5"
  }
 },
 "nbformat": 4,
 "nbformat_minor": 2
}
