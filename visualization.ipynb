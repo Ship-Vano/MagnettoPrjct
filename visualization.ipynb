{
 "cells": [
  {
   "cell_type": "markdown",
   "id": "b5e74690",
   "metadata": {},
   "source": [
    "# Визуализация результатов работы алгоритмов\n",
    "1) HLL\n",
    "2) HLLC\n",
    "3) HLLD"
   ]
  },
  {
   "cell_type": "code",
   "execution_count": 73,
   "id": "261d93ce",
   "metadata": {},
   "outputs": [],
   "source": [
    "fdata = open(\"./OutputData/HLLScheme\",'r')"
   ]
  },
  {
   "cell_type": "code",
   "execution_count": 74,
   "id": "164d3c75",
   "metadata": {},
   "outputs": [],
   "source": [
    "lines = fdata.readlines()"
   ]
  },
  {
   "cell_type": "code",
   "execution_count": 75,
   "id": "675c97f8",
   "metadata": {},
   "outputs": [
    {
     "name": "stdout",
     "output_type": "stream",
     "text": [
      "5000\n",
      "401\n"
     ]
    }
   ],
   "source": [
    "h = 0.0025\n",
    "t0 = float(lines[0])\n",
    "timesteps = lines.count('--------\\n')-1\n",
    "spacesteps = lines.index('--------\\n')-1\n",
    "print(timesteps)\n",
    "print(spacesteps)"
   ]
  },
  {
   "cell_type": "code",
   "execution_count": 76,
   "id": "2ec05051",
   "metadata": {},
   "outputs": [
    {
     "name": "stdout",
     "output_type": "stream",
     "text": [
      "[1.0, 0.0, 0.0, 0.0, 2.28125, 0.75, 1.0, 0.0]\n"
     ]
    }
   ],
   "source": [
    "state=[[float(x) for x in lines[i].split()] for i in range(1, spacesteps+1)]\n",
    "state=[[float(x) for x in lines[i].split()] for i in range(spacesteps+3, spacesteps+spacesteps+3)]\n",
    "state=[[float(x) for x in lines[i].split()] for i in range(spacesteps+2+spacesteps+3, spacesteps+spacesteps+spacesteps+2)]\n",
    "print(state[0])"
   ]
  },
  {
   "cell_type": "code",
   "execution_count": 77,
   "id": "ea403daa",
   "metadata": {},
   "outputs": [],
   "source": [
    "states = [[[float(x) for x in lines[i].split()] for i in range(j, j+spacesteps)] for j in range(1, len(lines), spacesteps+2)]"
   ]
  },
  {
   "cell_type": "code",
   "execution_count": 78,
   "id": "8e344814",
   "metadata": {},
   "outputs": [],
   "source": [
    "rhos = [[states[j][i][0] for i in range(0, spacesteps)] for j in range(0, timesteps)]"
   ]
  },
  {
   "cell_type": "code",
   "execution_count": 79,
   "id": "10ec2b96",
   "metadata": {},
   "outputs": [
    {
     "name": "stdout",
     "output_type": "stream",
     "text": [
      "401\n"
     ]
    },
    {
     "data": {
      "image/png": "[encoded data removed]",
      "text/plain": [
       "<Figure size 640x480 with 1 Axes>"
      ]
     },
     "metadata": {},
     "output_type": "display_data"
    }
   ],
   "source": [
    "import matplotlib.pyplot as plt\n",
    "from matplotlib import animation\n",
    "import numpy as np\n",
    "\n",
    "x = np.arange(-0.5, 0.5+h, h)\n",
    "print(len(x))\n",
    "y = rhos[-1]\n",
    "fig, ax = plt.subplots()\n",
    "scat = ax.scatter( x, y, s=1.2 )\n",
    "#ax.set(xlim=[0, 1], ylim=[0, 1], xlabel='x', ylabel='rho')\n",
    "#def update(frame):\n",
    "#    scat = ax.scatter(x, rhos[timesteps-1-frame],s=1.2)\n",
    "#    return (scat)\n",
    "#ani = animation.FuncAnimation(fig=fig, func=update, frames=1000, interval=100)\n",
    "#from IPython.display import HTML\n",
    "#HTML(ani.to_html5_video())"
   ]
  },
  {
   "cell_type": "code",
   "execution_count": null,
   "id": "e4ae9cf2",
   "metadata": {},
   "outputs": [],
   "source": []
  }
 ],
 "metadata": {
  "kernelspec": {
   "display_name": "Python 3 (ipykernel)",
   "language": "python",
   "name": "python3"
  },
  "language_info": {
   "codemirror_mode": {
    "name": "ipython",
    "version": 3
   },
   "file_extension": ".py",
   "mimetype": "text/x-python",
   "name": "python",
   "nbconvert_exporter": "python",
   "pygments_lexer": "ipython3",
   "version": "3.9.17"
  }
 },
 "nbformat": 4,
 "nbformat_minor": 5
}
