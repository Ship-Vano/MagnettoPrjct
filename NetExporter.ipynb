{
 "cells": [
  {
   "cell_type": "code",
   "execution_count": 1,
   "metadata": {},
   "outputs": [],
   "source": [
    "from netgen.geom2d  import unit_square\n",
    "from ngsolve import *\n",
    "from netgen.meshing import *"
   ]
  },
  {
   "cell_type": "code",
   "execution_count": 5,
   "metadata": {},
   "outputs": [],
   "source": [
    "mesh = Mesh(unit_square.GenerateMesh(maxh=0.1))"
   ]
  },
  {
   "cell_type": "code",
   "execution_count": null,
   "metadata": {},
   "outputs": [
    {
     "ename": "TypeError",
     "evalue": "__init__(): incompatible constructor arguments. The following argument types are supported:\n    1. ngsolve.comp.Mesh(ngmesh: netgen.libngpy._meshing.Mesh)\n    2. ngsolve.comp.Mesh(filename: str, comm: pyngcore.pyngcore.MPI_Comm = <pyngcore.pyngcore.MPI_Comm object at 0x000001CCFA08BC30>)\n\nInvoked with: kwargs: dim=2",
     "output_type": "error",
     "traceback": [
      "\u001b[1;31m---------------------------------------------------------------------------\u001b[0m",
      "\u001b[1;31mTypeError\u001b[0m                                 Traceback (most recent call last)",
      "Cell \u001b[1;32mIn[4], line 1\u001b[0m\n\u001b[1;32m----> 1\u001b[0m ngmesh \u001b[38;5;241m=\u001b[39m \u001b[43mMesh\u001b[49m\u001b[43m(\u001b[49m\u001b[43mdim\u001b[49m\u001b[38;5;241;43m=\u001b[39;49m\u001b[38;5;241;43m2\u001b[39;49m\u001b[43m)\u001b[49m\n\u001b[0;32m      2\u001b[0m \u001b[38;5;66;03m# N=5\u001b[39;00m\n\u001b[0;32m      3\u001b[0m \u001b[38;5;66;03m# pnums = []\u001b[39;00m\n\u001b[0;32m      4\u001b[0m \u001b[38;5;66;03m# for i in range(N + 1):\u001b[39;00m\n\u001b[1;32m   (...)\u001b[0m\n\u001b[0;32m     24\u001b[0m \n\u001b[0;32m     25\u001b[0m \u001b[38;5;66;03m# from ngsolve import Mesh\u001b[39;00m\n\u001b[0;32m     26\u001b[0m mesh \u001b[38;5;241m=\u001b[39m Mesh(ngmesh)\n",
      "\u001b[1;31mTypeError\u001b[0m: __init__(): incompatible constructor arguments. The following argument types are supported:\n    1. ngsolve.comp.Mesh(ngmesh: netgen.libngpy._meshing.Mesh)\n    2. ngsolve.comp.Mesh(filename: str, comm: pyngcore.pyngcore.MPI_Comm = <pyngcore.pyngcore.MPI_Comm object at 0x000001CCFA08BC30>)\n\nInvoked with: kwargs: dim=2"
     ]
    }
   ],
   "source": [
    "ngmesh = Mesh(dim=2)\n",
    "N=5\n",
    "pnums = []\n",
    "for i in range(N + 1):\n",
    "    for j in range(N + 1):\n",
    "        pnums.append(ngmesh.Add(MeshPoint(Pnt(i / N, j / N, 0))))\n",
    "idx_dom = ngmesh.AddRegion(\"mat\", dim=2)\n",
    "for j in range(N):\n",
    "    for i in range(N):\n",
    "        ngmesh.Add(Element2D(idx_dom, [pnums[i + j * (N + 1)],\n",
    "                               pnums[i + (j + 1) * (N + 1)],\n",
    "                               pnums[i + 1 + (j + 1) * (N + 1)],\n",
    "                               pnums[i + 1 + j * (N + 1)]]))\n",
    "# horizontal boundaries\n",
    "for i in range(N):\n",
    "   ngmesh.Add(Element1D([pnums[N + i * (N + 1)],\n",
    "                       pnums[N + (i + 1) * (N + 1)]], index=1))\n",
    "   ngmesh.Add(Element1D([pnums[0 + i * (N + 1)], pnums[0 + (i + 1) * (N + 1)]], index=1))\n",
    "\n",
    "# vertical boundaries\n",
    "for i in range(N):\n",
    "   ngmesh.Add(Element1D([pnums[i], pnums[i + 1]], index=2))\n",
    "   ngmesh.Add(Element1D([pnums[i + N * (N + 1)], pnums[i + 1 + N * (N + 1)]], index=2))\n",
    "\n",
    "from ngsolve import Mesh\n",
    "mesh = Mesh(ngmesh)"
   ]
  },
  {
   "cell_type": "code",
   "execution_count": 4,
   "metadata": {},
   "outputs": [
    {
     "name": "stdout",
     "output_type": "stream",
     "text": [
      "Mesh exported to mesh.txt\n"
     ]
    }
   ],
   "source": [
    "filename = \"mesh.txt\"\n",
    "with open(filename, 'w') as f:\n",
    "    f.write(f\"$Nodes\\n\")\n",
    "    f.write(f\"{mesh.nv}\\n\") #number of vertices\n",
    "    points = mesh.ngmesh.Points()\n",
    "    for i in range(mesh.nv):\n",
    "        p = points[i+1]\n",
    "        f.write(f\"{i+1} {p[0]} {p[1]} 0.0\\n\")\n",
    "    f.write(f\"$EndNodes\\n\")\n",
    "    f.write(f\"$Elements\\n\")\n",
    "    f.write(f\"{mesh.ne}\\n\")\n",
    "    elements = str(mesh.ngmesh.Elements2D()).split(\"\\n\")\n",
    "    for i in range(mesh.ne):\n",
    "        el = elements[i].split(\"=\")\n",
    "        ind = el[0].split(\":\")[0]\n",
    "        f.write(f\"{ind}{el[1]}\\n\")\n",
    "    f.write(f\"$EndElements\\n\")\n",
    "print(f\"Mesh exported to {filename}\")"
   ]
  },
  {
   "cell_type": "code",
   "execution_count": null,
   "metadata": {},
   "outputs": [
    {
     "data": {
      "application/vnd.jupyter.widget-view+json": {
       "model_id": "1eb6d739d2f74aec95497af8c2c6b2d6",
       "version_major": 2,
       "version_minor": 0
      },
      "text/plain": [
       "WebGuiWidget(layout=Layout(height='500px', width='100%'), value={'gui_settings': {}, 'ngsolve_version': '6.2.2…"
      ]
     },
     "metadata": {},
     "output_type": "display_data"
    },
    {
     "data": {
      "text/plain": [
       "BaseWebGuiScene"
      ]
     },
     "execution_count": 6,
     "metadata": {},
     "output_type": "execute_result"
    }
   ],
   "source": [
    "from ngsolve.webgui import Draw\n",
    "Draw(mesh)                                                                                                                                                                                                                                                                                                                                                                                                                                                                                                                                                                                                                                                                                                                                                                                                                                                                                                                                                                                                                                                                                                                                                                                                                                                                                                                                                                                                                                                                                                                                                                                                                                                                                          \n",
    "******************************************/*****/*/*/*/*/*///***////***/*/*/*//*/*//*/*/***/***/***/*                                      "
   ]
  },
  {
   "cell_type": "code",
   "execution_count": null,
   "metadata": {},
   "outputs": [],
   "source": []
  },
  {
   "cell_type": "code",
   "execution_count": null,
   "metadata": {},
   "outputs": [],
   "source": [
    "\n"
   ]
  }
 ],
 "metadata": {
  "kernelspec": {
   "display_name": ".venv",
   "language": "python",
   "name": "python3"
  },
  "language_info": {
   "codemirror_mode": {
    "name": "ipython",
    "version": 3
   },
   "file_extension": ".py",
   "mimetype": "text/x-python",
   "name": "python",
   "nbconvert_exporter": "python",
   "pygments_lexer": "ipython3",
   "version": "3.9.5"
  }
 },
 "nbformat": 4,
 "nbformat_minor": 2
}
