{
 "cells": [
  {
   "cell_type": "code",
   "execution_count": 1,
   "metadata": {},
   "outputs": [
    {
     "ename": "ImportError",
     "evalue": "DLL load failed while importing libngpy: The specified module could not be found.",
     "output_type": "error",
     "traceback": [
      "\u001b[1;31m---------------------------------------------------------------------------\u001b[0m",
      "\u001b[1;31mImportError\u001b[0m                               Traceback (most recent call last)",
      "Cell \u001b[1;32mIn[1], line 1\u001b[0m\n\u001b[1;32m----> 1\u001b[0m \u001b[38;5;28;01mfrom\u001b[39;00m \u001b[38;5;21;01mnetgen\u001b[39;00m\u001b[38;5;21;01m.\u001b[39;00m\u001b[38;5;21;01mgeom2d\u001b[39;00m  \u001b[38;5;28;01mimport\u001b[39;00m unit_square\n\u001b[0;32m      2\u001b[0m \u001b[38;5;28;01mfrom\u001b[39;00m \u001b[38;5;21;01mngsolve\u001b[39;00m \u001b[38;5;28;01mimport\u001b[39;00m \u001b[38;5;241m*\u001b[39m\n\u001b[0;32m      3\u001b[0m \u001b[38;5;28;01mfrom\u001b[39;00m \u001b[38;5;21;01mnetgen\u001b[39;00m\u001b[38;5;21;01m.\u001b[39;00m\u001b[38;5;21;01mmeshing\u001b[39;00m \u001b[38;5;28;01mimport\u001b[39;00m \u001b[38;5;241m*\u001b[39m\n",
      "File \u001b[1;32mc:\\Users\\Иван\\AppData\\Local\\Programs\\Python\\Python39\\lib\\site-packages\\netgen\\geom2d.py:1\u001b[0m\n\u001b[1;32m----> 1\u001b[0m \u001b[38;5;28;01mfrom\u001b[39;00m \u001b[38;5;21;01m.\u001b[39;00m\u001b[38;5;21;01mlibngpy\u001b[39;00m\u001b[38;5;21;01m.\u001b[39;00m\u001b[38;5;21;01m_geom2d\u001b[39;00m \u001b[38;5;28;01mimport\u001b[39;00m SplineGeometry, Solid2d, CSG2d, Rectangle, Circle, EdgeInfo, PointInfo\n\u001b[0;32m      2\u001b[0m \u001b[38;5;28;01mfrom\u001b[39;00m \u001b[38;5;21;01m.\u001b[39;00m\u001b[38;5;21;01mmeshing\u001b[39;00m \u001b[38;5;28;01mimport\u001b[39;00m meshsize\n\u001b[0;32m      3\u001b[0m \u001b[38;5;28;01mimport\u001b[39;00m \u001b[38;5;21;01mmath\u001b[39;00m \u001b[38;5;28;01mas\u001b[39;00m \u001b[38;5;21;01mmath\u001b[39;00m\n",
      "\u001b[1;31mImportError\u001b[0m: DLL load failed while importing libngpy: The specified module could not be found."
     ]
    }
   ],
   "source": [
    "from netgen.geom2d  import unit_square\n",
    "from ngsolve import *\n",
    "from netgen.meshing import *"
   ]
  },
  {
   "cell_type": "code",
   "execution_count": 5,
   "metadata": {},
   "outputs": [],
   "source": [
    "#mesh = Mesh(unit_square.GenerateMesh(maxh=0.1))"
   ]
  },
  {
   "cell_type": "code",
   "execution_count": 6,
   "metadata": {},
   "outputs": [],
   "source": [
    "ngmesh = Mesh(dim=2)\n",
    "N=5\n",
    "pnums = []\n",
    "for i in range(N + 1):\n",
    "    for j in range(N + 1):\n",
    "        pnums.append(ngmesh.Add(MeshPoint(Pnt(i / N, j / N, 0))))\n",
    "idx_dom = ngmesh.AddRegion(\"mat\", dim=2)\n",
    "for j in range(N):\n",
    "    for i in range(N):\n",
    "        ngmesh.Add(Element2D(idx_dom, [pnums[i + j * (N + 1)],\n",
    "                               pnums[i + (j + 1) * (N + 1)],\n",
    "                               pnums[i + 1 + (j + 1) * (N + 1)],\n",
    "                               pnums[i + 1 + j * (N + 1)]]))\n",
    "# horizontal boundaries\n",
    "for i in range(N):\n",
    "   ngmesh.Add(Element1D([pnums[N + i * (N + 1)],\n",
    "                       pnums[N + (i + 1) * (N + 1)]], index=1))\n",
    "   ngmesh.Add(Element1D([pnums[0 + i * (N + 1)], pnums[0 + (i + 1) * (N + 1)]], index=1))\n",
    "\n",
    "# vertical boundaries\n",
    "for i in range(N):\n",
    "   ngmesh.Add(Element1D([pnums[i], pnums[i + 1]], index=2))\n",
    "   ngmesh.Add(Element1D([pnums[i + N * (N + 1)], pnums[i + 1 + N * (N + 1)]], index=2))\n",
    "\n",
    "from ngsolve import Mesh\n",
    "mesh = Mesh(ngmesh)"
   ]
  },
  {
   "cell_type": "code",
   "execution_count": 4,
   "metadata": {},
   "outputs": [
    {
     "name": "stdout",
     "output_type": "stream",
     "text": [
      "Mesh exported to mesh.txt\n"
     ]
    }
   ],
   "source": [
    "filename = \"mesh.txt\"\n",
    "with open(filename, 'w') as f:\n",
    "    f.write(f\"$Nodes\\n\")\n",
    "    f.write(f\"{mesh.nv}\\n\") #number of vertices\n",
    "    points = mesh.ngmesh.Points()\n",
    "    for i in range(mesh.nv):\n",
    "        p = points[i+1]\n",
    "        f.write(f\"{i+1} {p[0]} {p[1]} 0.0\\n\")\n",
    "    f.write(f\"$EndNodes\\n\")\n",
    "    f.write(f\"$Elements\\n\")\n",
    "    f.write(f\"{mesh.ne}\\n\")\n",
    "    elements = str(mesh.ngmesh.Elements2D()).split(\"\\n\")\n",
    "    for i in range(mesh.ne):\n",
    "        el = elements[i].split(\"=\")\n",
    "        ind = el[0].split(\":\")[0]\n",
    "        f.write(f\"{ind}{el[1]}\\n\")\n",
    "    f.write(f\"$EndElements\\n\")\n",
    "print(f\"Mesh exported to {filename}\")"
   ]
  },
  {
   "cell_type": "code",
   "execution_count": 7,
   "metadata": {},
   "outputs": [
    {
     "data": {
      "application/vnd.jupyter.widget-view+json": {
       "model_id": "2f2bfd0c975f40a0aa2be03feb1277b9",
       "version_major": 2,
       "version_minor": 0
      },
      "text/plain": [
       "WebGuiWidget(layout=Layout(height='500px', width='100%'), value={'gui_settings': {}, 'ngsolve_version': '6.2.2…"
      ]
     },
     "metadata": {},
     "output_type": "display_data"
    },
    {
     "data": {
      "text/plain": [
       "BaseWebGuiScene"
      ]
     },
     "execution_count": 7,
     "metadata": {},
     "output_type": "execute_result"
    }
   ],
   "source": [
    "from ngsolve.webgui import Draw\n",
    "Draw(mesh)"
   ]
  },
  {
   "cell_type": "code",
   "execution_count": 11,
   "metadata": {},
   "outputs": [
    {
     "name": "stdout",
     "output_type": "stream",
     "text": [
      "export mesh in neutral format to file =  test.txt\n"
     ]
    },
    {
     "ename": "AttributeError",
     "evalue": "'ngsolve.comp.Mesh' object has no attribute 'Points'",
     "output_type": "error",
     "traceback": [
      "\u001b[1;31m---------------------------------------------------------------------------\u001b[0m",
      "\u001b[1;31mAttributeError\u001b[0m                            Traceback (most recent call last)",
      "Cell \u001b[1;32mIn[11], line 22\u001b[0m\n\u001b[0;32m     20\u001b[0m             \u001b[38;5;28mprint\u001b[39m (p\u001b[38;5;241m.\u001b[39mnr, end\u001b[38;5;241m=\u001b[39m\u001b[38;5;124m\"\u001b[39m\u001b[38;5;124m \u001b[39m\u001b[38;5;124m\"\u001b[39m, file\u001b[38;5;241m=\u001b[39mf)\n\u001b[0;32m     21\u001b[0m         \u001b[38;5;28mprint\u001b[39m(file\u001b[38;5;241m=\u001b[39mf)\n\u001b[1;32m---> 22\u001b[0m \u001b[43mExport\u001b[49m\u001b[43m(\u001b[49m\u001b[43mmesh\u001b[49m\u001b[43m,\u001b[49m\u001b[43m \u001b[49m\u001b[38;5;124;43m\"\u001b[39;49m\u001b[38;5;124;43mtest.txt\u001b[39;49m\u001b[38;5;124;43m\"\u001b[39;49m\u001b[43m)\u001b[49m\n",
      "Cell \u001b[1;32mIn[11], line 9\u001b[0m, in \u001b[0;36mExport\u001b[1;34m(mesh, filename)\u001b[0m\n\u001b[0;32m      5\u001b[0m \u001b[38;5;28mprint\u001b[39m (\u001b[38;5;124m\"\u001b[39m\u001b[38;5;124mexport mesh in neutral format to file = \u001b[39m\u001b[38;5;124m\"\u001b[39m, filename)\n\u001b[0;32m      7\u001b[0m f \u001b[38;5;241m=\u001b[39m \u001b[38;5;28mopen\u001b[39m (filename, \u001b[38;5;124m'\u001b[39m\u001b[38;5;124mw\u001b[39m\u001b[38;5;124m'\u001b[39m)\n\u001b[1;32m----> 9\u001b[0m points \u001b[38;5;241m=\u001b[39m \u001b[43mmesh\u001b[49m\u001b[38;5;241;43m.\u001b[39;49m\u001b[43mPoints\u001b[49m()\n\u001b[0;32m     10\u001b[0m \u001b[38;5;28mprint\u001b[39m (\u001b[38;5;28mlen\u001b[39m(points), file\u001b[38;5;241m=\u001b[39mf)\n\u001b[0;32m     11\u001b[0m \u001b[38;5;28;01mfor\u001b[39;00m p \u001b[38;5;129;01min\u001b[39;00m points:\n",
      "\u001b[1;31mAttributeError\u001b[0m: 'ngsolve.comp.Mesh' object has no attribute 'Points'"
     ]
    }
   ],
   "source": []
  },
  {
   "cell_type": "code",
   "execution_count": null,
   "metadata": {},
   "outputs": [],
   "source": []
  }
 ],
 "metadata": {
  "kernelspec": {
   "display_name": "Python 3",
   "language": "python",
   "name": "python3"
  },
  "language_info": {
   "codemirror_mode": {
    "name": "ipython",
    "version": 3
   },
   "file_extension": ".py",
   "mimetype": "text/x-python",
   "name": "python",
   "nbconvert_exporter": "python",
   "pygments_lexer": "ipython3",
   "version": "3.9.5"
  }
 },
 "nbformat": 4,
 "nbformat_minor": 2
}
