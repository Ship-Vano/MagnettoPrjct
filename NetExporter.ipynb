{
 "cells": [
  {
   "cell_type": "code",
   "execution_count": 3,
   "metadata": {},
   "outputs": [],
   "source": [
    "from netgen.geom2d  import unit_square\n",
    "from ngsolve import *\n",
    "from netgen.meshing import *"
   ]
  },
  {
   "cell_type": "code",
   "execution_count": 4,
   "metadata": {},
   "outputs": [
    {
     "ename": "TypeError",
     "evalue": "__init__(): incompatible constructor arguments. The following argument types are supported:\n    1. netgen.libngpy._meshing.Mesh(dim: int = 3, comm: pyngcore.pyngcore.MPI_Comm = <pyngcore.pyngcore.MPI_Comm object at 0x000001B67F321E70>)\n\nInvoked with: <netgen.libngpy._meshing.Mesh object at 0x000001B67F3605B0>",
     "output_type": "error",
     "traceback": [
      "\u001b[1;31m---------------------------------------------------------------------------\u001b[0m",
      "\u001b[1;31mTypeError\u001b[0m                                 Traceback (most recent call last)",
      "Cell \u001b[1;32mIn[4], line 1\u001b[0m\n\u001b[1;32m----> 1\u001b[0m mesh \u001b[38;5;241m=\u001b[39m \u001b[43mMesh\u001b[49m\u001b[43m(\u001b[49m\u001b[43munit_square\u001b[49m\u001b[38;5;241;43m.\u001b[39;49m\u001b[43mGenerateMesh\u001b[49m\u001b[43m(\u001b[49m\u001b[43mmaxh\u001b[49m\u001b[38;5;241;43m=\u001b[39;49m\u001b[38;5;241;43m0.1\u001b[39;49m\u001b[43m)\u001b[49m\u001b[43m)\u001b[49m\n",
      "\u001b[1;31mTypeError\u001b[0m: __init__(): incompatible constructor arguments. The following argument types are supported:\n    1. netgen.libngpy._meshing.Mesh(dim: int = 3, comm: pyngcore.pyngcore.MPI_Comm = <pyngcore.pyngcore.MPI_Comm object at 0x000001B67F321E70>)\n\nInvoked with: <netgen.libngpy._meshing.Mesh object at 0x000001B67F3605B0>"
     ]
    }
   ],
   "source": [
    "mesh = Mesh(unit_square.GenerateMesh(maxh=0.1))"
   ]
  },
  {
   "cell_type": "code",
   "execution_count": 6,
   "metadata": {},
   "outputs": [],
   "source": [
    "ngmesh = Mesh(dim=2)\n",
    "N=5\n",
    "pnums = []\n",
    "for i in range(N + 1):\n",
    "    for j in range(N + 1):\n",
    "        pnums.append(ngmesh.Add(MeshPoint(Pnt(i / N, j / N, 0))))\n",
    "idx_dom = ngmesh.AddRegion(\"mat\", dim=2)\n",
    "for j in range(N):\n",
    "    for i in range(N):\n",
    "        ngmesh.Add(Element2D(idx_dom, [pnums[i + j * (N + 1)],\n",
    "                               pnums[i + (j + 1) * (N + 1)],\n",
    "                               pnums[i + 1 + (j + 1) * (N + 1)],\n",
    "                               pnums[i + 1 + j * (N + 1)]]))\n",
    "# horizontal boundaries\n",
    "for i in range(N):\n",
    "   ngmesh.Add(Element1D([pnums[N + i * (N + 1)],\n",
    "                       pnums[N + (i + 1) * (N + 1)]], index=1))\n",
    "   ngmesh.Add(Element1D([pnums[0 + i * (N + 1)], pnums[0 + (i + 1) * (N + 1)]], index=1))\n",
    "\n",
    "# vertical boundaries\n",
    "for i in range(N):\n",
    "   ngmesh.Add(Element1D([pnums[i], pnums[i + 1]], index=2))\n",
    "   ngmesh.Add(Element1D([pnums[i + N * (N + 1)], pnums[i + 1 + N * (N + 1)]], index=2))\n",
    "\n",
    "from ngsolve import Mesh\n",
    "mesh = Mesh(ngmesh)"
   ]
  },
  {
   "cell_type": "code",
   "execution_count": 7,
   "metadata": {},
   "outputs": [
    {
     "name": "stdout",
     "output_type": "stream",
     "text": [
      "Mesh exported to $mesh.txt\n"
     ]
    }
   ],
   "source": [
    "filename = \"mesh.txt\"\n",
    "with open(filename, 'w') as f:\n",
    "    f.write(f\"$Nodes\\n\")\n",
    "    f.write(f\"{mesh.nv}\\n\") #number of vertices\n",
    "    points = mesh.ngmesh.Points()\n",
    "    for i in range(mesh.nv):\n",
    "        p = points[i+1]\n",
    "        f.write(f\"{i+1} {p[0]} {p[1]} 0.0\\n\")\n",
    "\n",
    "    f.write(f\"$Elements\\n\")\n",
    "    f.write(f\"{mesh.ne}\\n\")\n",
    "    elements = mesh.ngmesh.Elements2D()\n",
    "    f.write(str(elements))\n",
    "    # for i in range(mesh.ne):\n",
    "    #     element = elements[i]\n",
    "    #     vertices = element.vertices\n",
    "    #     f.write(f\"{i+1} 2 {len(vertices)} {' '.join(str(v+1) for v in vertices)}\\n\")\n",
    "    f.write(f\"$EndElements\\n\")\n",
    "print(f\"Mesh exported to ${filename}\")"
   ]
  },
  {
   "cell_type": "code",
   "execution_count": 35,
   "metadata": {},
   "outputs": [
    {
     "ename": "AttributeError",
     "evalue": "'netgen.libngpy._meshing.Mesh' object has no attribute 'Neighbours'",
     "output_type": "error",
     "traceback": [
      "\u001b[1;31m---------------------------------------------------------------------------\u001b[0m",
      "\u001b[1;31mAttributeError\u001b[0m                            Traceback (most recent call last)",
      "Cell \u001b[1;32mIn[35], line 1\u001b[0m\n\u001b[1;32m----> 1\u001b[0m \u001b[38;5;28mprint\u001b[39m(\u001b[43mmesh\u001b[49m\u001b[38;5;241;43m.\u001b[39;49m\u001b[43mngmesh\u001b[49m\u001b[38;5;241;43m.\u001b[39;49m\u001b[43mNeighbours\u001b[49m)\n",
      "\u001b[1;31mAttributeError\u001b[0m: 'netgen.libngpy._meshing.Mesh' object has no attribute 'Neighbours'"
     ]
    }
   ],
   "source": [
    "print(mesh.ngmesh.Neighbours)"
   ]
  },
  {
   "cell_type": "code",
   "execution_count": 8,
   "metadata": {},
   "outputs": [
    {
     "data": {
      "application/vnd.jupyter.widget-view+json": {
       "model_id": "84b77c1b0e6f4290bc1990226dd913a1",
       "version_major": 2,
       "version_minor": 0
      },
      "text/plain": [
       "WebGuiWidget(layout=Layout(height='500px', width='100%'), value={'gui_settings': {}, 'ngsolve_version': '6.2.2…"
      ]
     },
     "metadata": {},
     "output_type": "display_data"
    },
    {
     "data": {
      "text/plain": [
       "BaseWebGuiScene"
      ]
     },
     "execution_count": 8,
     "metadata": {},
     "output_type": "execute_result"
    }
   ],
   "source": [
    "from ngsolve.webgui import Draw\n",
    "Draw(mesh)"
   ]
  },
  {
   "cell_type": "code",
   "execution_count": null,
   "metadata": {},
   "outputs": [],
   "source": []
  }
 ],
 "metadata": {
  "kernelspec": {
   "display_name": "Python 3",
   "language": "python",
   "name": "python3"
  },
  "language_info": {
   "codemirror_mode": {
    "name": "ipython",
    "version": 3
   },
   "file_extension": ".py",
   "mimetype": "text/x-python",
   "name": "python",
   "nbconvert_exporter": "python",
   "pygments_lexer": "ipython3",
   "version": "3.9.5"
  }
 },
 "nbformat": 4,
 "nbformat_minor": 2
}
