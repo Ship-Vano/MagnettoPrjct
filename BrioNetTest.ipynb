{
 "cells": [
  {
   "cell_type": "markdown",
   "id": "34f14cbb",
   "metadata": {},
   "source": [
    "# Распространение циркулярно-поляризованной альфвеновской волны"
   ]
  },
  {
   "cell_type": "code",
   "execution_count": 41,
   "id": "55ae388f",
   "metadata": {},
   "outputs": [],
   "source": [
    "import matplotlib.pyplot as plt\n",
    "from matplotlib import animation\n",
    "import numpy as np\n",
    "from matplotlib.ticker import MultipleLocator, FormatStrFormatter\n",
    "from sympy import sin, cos\n",
    "from math import pi\n",
    "HLLD_tests = [[],[],[],[]]\n",
    "space_numbers = [64,128,256,512,1024]\n",
    "#space_numbers = [16, 32, 64, 128, 256]\n",
    "h_HLLDs = []\n",
    "X_max = 1/cos(pi/6)\n",
    "x0 = 0\n",
    "L = X_max  - x0\n",
    "for j in range(5):\n",
    "    fdata_HLLD = open(f\"./OutputData/BrioNetTest_HLLD_{j}\",'r')\n",
    "    lines_HLLD = fdata_HLLD.readlines()\n",
    "    h_HLLD =  L/space_numbers[j]\n",
    "    h_HLLDs.append(h_HLLD)\n",
    "    t0 = float(lines_HLLD[0])\n",
    "    timesteps_HLLD = lines_HLLD.count('--------\\n')-1\n",
    "    spacesteps_HLLD = lines_HLLD.index('--------\\n')-1\n",
    "    states_HLLD=[[float(x) for x in lines_HLLD[i].split()] for i in range(len(lines_HLLD)-spacesteps_HLLD-1, len(lines_HLLD)-1)]\n",
    "    vs_HLLD = [[states_HLLD[k][2]/states_HLLD[k][0] for k in range(0, spacesteps_HLLD)]]\n",
    "    ws_HLLD = [[states_HLLD[k][3]/states_HLLD[k][0] for k in range(0, spacesteps_HLLD)]]\n",
    "    Bys_HLLD = [[states_HLLD[k][6] for k in range(0, spacesteps_HLLD)]]\n",
    "    Bzs_HLLD = [[states_HLLD[k][7] for k in range(0, spacesteps_HLLD)]]\n",
    "    HLLD_tests[0].append(vs_HLLD)\n",
    "    HLLD_tests[1].append(ws_HLLD)\n",
    "    HLLD_tests[2].append(Bys_HLLD)\n",
    "    HLLD_tests[3].append(Bzs_HLLD)\n",
    "    fdata_HLLD.close()\n",
    "HLLD_tests[2].reverse()\n",
    "h_HLLDs.reverse()"
   ]
  },
  {
   "cell_type": "code",
   "execution_count": 42,
   "id": "e2071261",
   "metadata": {},
   "outputs": [],
   "source": [
    "HLL_tests = [[],[],[],[]]\n",
    "space_numbers = [64,128,256,512,1024]\n",
    "#space_numbers = [16, 32, 64, 128, 256]\n",
    "h_HLLs = []\n",
    "X_max = 1/cos(pi/6)\n",
    "x0 = 0\n",
    "L = X_max  - x0\n",
    "for j in range(5):\n",
    "    fdata_HLL = open(f\"./OutputData/BrioNetTest_HLL_{j}\",'r')\n",
    "    lines_HLL = fdata_HLL.readlines()\n",
    "    h_HLL =  L/space_numbers[j]\n",
    "    h_HLLs.append(h_HLL)\n",
    "    t0 = float(lines_HLL[0])\n",
    "    timesteps_HLL = lines_HLL.count('--------\\n')-1\n",
    "    spacesteps_HLL = lines_HLL.index('--------\\n')-1\n",
    "    states_HLL=[[float(x) for x in lines_HLL[i].split()] for i in range(len(lines_HLL)-spacesteps_HLL-1, len(lines_HLL)-1)]\n",
    "    vs_HLL = [[states_HLL[k][2]/states_HLL[k][0] for k in range(0, spacesteps_HLL)]]\n",
    "    ws_HLL = [[states_HLL[k][3]/states_HLL[k][0] for k in range(0, spacesteps_HLL)]]\n",
    "    Bys_HLL = [[states_HLL[k][6] for k in range(0, spacesteps_HLL)]]\n",
    "    Bzs_HLL = [[states_HLL[k][7] for k in range(0, spacesteps_HLL)]]\n",
    "    HLL_tests[0].append(vs_HLL)\n",
    "    HLL_tests[1].append(ws_HLL)\n",
    "    HLL_tests[2].append(Bys_HLL)\n",
    "    HLL_tests[3].append(Bzs_HLL)\n",
    "    fdata_HLL.close()\n",
    "HLL_tests[2].reverse()\n",
    "h_HLLs.reverse()"
   ]
  },
  {
   "cell_type": "code",
   "execution_count": 43,
   "id": "b5932e88",
   "metadata": {},
   "outputs": [],
   "source": [
    "HLLC_tests = [[],[],[],[]]\n",
    "space_numbers = [64,128,256,512,1024]\n",
    "#space_numbers = [16, 32, 64, 128, 256]\n",
    "h_HLLCs = []\n",
    "X_max = 1/cos(pi/6)\n",
    "x0 = 0\n",
    "L = X_max  - x0\n",
    "for j in range(5):\n",
    "    fdata_HLLC = open(f\"./OutputData/BrioNetTest_HLLC_{j}\",'r')\n",
    "    lines_HLLC = fdata_HLLC.readlines()\n",
    "    h_HLLC =  L/space_numbers[j]\n",
    "    h_HLLCs.append(h_HLLC)\n",
    "    t0 = float(lines_HLLC[0])\n",
    "    timesteps_HLLC = lines_HLLC.count('--------\\n')-1\n",
    "    spacesteps_HLLC = lines_HLLC.index('--------\\n')-1\n",
    "    states_HLLC=[[float(x) for x in lines_HLLC[i].split()] for i in range(len(lines_HLLC)-spacesteps_HLLC-1, len(lines_HLLC)-1)]\n",
    "    vs_HLLC = [[states_HLLC[k][2]/states_HLLC[k][0] for k in range(0, spacesteps_HLLC)]]\n",
    "    ws_HLLC = [[states_HLLC[k][3]/states_HLLC[k][0] for k in range(0, spacesteps_HLLC)]]\n",
    "    Bys_HLLC = [[states_HLLC[k][6] for k in range(0, spacesteps_HLLC)]]\n",
    "    Bzs_HLLC = [[states_HLLC[k][7] for k in range(0, spacesteps_HLLC)]]\n",
    "    HLLC_tests[0].append(vs_HLLC)\n",
    "    HLLC_tests[1].append(ws_HLLC)\n",
    "    HLLC_tests[2].append(Bys_HLLC)\n",
    "    HLLC_tests[3].append(Bzs_HLLC)\n",
    "    fdata_HLLC.close()\n",
    "HLLC_tests[2].reverse()\n",
    "h_HLLCs.reverse()"
   ]
  },
  {
   "cell_type": "code",
   "execution_count": 64,
   "id": "05a712b7",
   "metadata": {},
   "outputs": [
    {
     "ename": "ValueError",
     "evalue": "x and y must have same first dimension, but have shapes (1025,) and (65,)",
     "output_type": "error",
     "traceback": [
      "\u001b[1;31m---------------------------------------------------------------------------\u001b[0m",
      "\u001b[1;31mValueError\u001b[0m                                Traceback (most recent call last)",
      "Cell \u001b[1;32mIn[64], line 13\u001b[0m\n\u001b[0;32m     11\u001b[0m     \u001b[38;5;28;01mif\u001b[39;00m(\u001b[38;5;28mlen\u001b[39m(x_HLL) \u001b[38;5;241m!=\u001b[39m \u001b[38;5;28mlen\u001b[39m(HLL_tests[\u001b[38;5;241m2\u001b[39m][i][\u001b[38;5;241m-\u001b[39m\u001b[38;5;241m1\u001b[39m])):\n\u001b[0;32m     12\u001b[0m         x_HLL \u001b[38;5;241m=\u001b[39m np\u001b[38;5;241m.\u001b[39marange(\u001b[38;5;241m0\u001b[39m, \u001b[38;5;241m1\u001b[39m\u001b[38;5;241m/\u001b[39mcos(pi\u001b[38;5;241m/\u001b[39m\u001b[38;5;241m6\u001b[39m)\u001b[38;5;241m+\u001b[39m h_HLLs[i], h_HLLs[i])\n\u001b[1;32m---> 13\u001b[0m     \u001b[43max\u001b[49m\u001b[43m[\u001b[49m\u001b[38;5;241;43m0\u001b[39;49m\u001b[43m]\u001b[49m\u001b[38;5;241;43m.\u001b[39;49m\u001b[43mplot\u001b[49m\u001b[43m(\u001b[49m\u001b[43mx_HLL\u001b[49m\u001b[43m,\u001b[49m\u001b[43m \u001b[49m\u001b[43mHLL_tests\u001b[49m\u001b[43m[\u001b[49m\u001b[38;5;241;43m2\u001b[39;49m\u001b[43m]\u001b[49m\u001b[43m[\u001b[49m\u001b[43mi\u001b[49m\u001b[43m]\u001b[49m\u001b[43m[\u001b[49m\u001b[38;5;241;43m-\u001b[39;49m\u001b[38;5;241;43m1\u001b[39;49m\u001b[43m]\u001b[49m\u001b[43m,\u001b[49m\u001b[43m \u001b[49m\u001b[43mc\u001b[49m\u001b[38;5;241;43m=\u001b[39;49m\u001b[43mcolours\u001b[49m\u001b[43m[\u001b[49m\u001b[43mi\u001b[49m\u001b[43m]\u001b[49m\u001b[43m,\u001b[49m\u001b[43m \u001b[49m\u001b[43mmarker\u001b[49m\u001b[38;5;241;43m=\u001b[39;49m\u001b[43mmarkers\u001b[49m\u001b[43m[\u001b[49m\u001b[43mi\u001b[49m\u001b[43m]\u001b[49m\u001b[43m,\u001b[49m\u001b[43m \u001b[49m\u001b[43mlabel\u001b[49m\u001b[38;5;241;43m=\u001b[39;49m\u001b[38;5;124;43mf\u001b[39;49m\u001b[38;5;124;43m'\u001b[39;49m\u001b[38;5;124;43mHLL_\u001b[39;49m\u001b[38;5;132;43;01m{\u001b[39;49;00m\u001b[43mspace_numbers\u001b[49m\u001b[43m[\u001b[49m\u001b[43mi\u001b[49m\u001b[43m]\u001b[49m\u001b[38;5;132;43;01m}\u001b[39;49;00m\u001b[38;5;124;43m'\u001b[39;49m\u001b[43m)\u001b[49m\n\u001b[0;32m     14\u001b[0m     \u001b[38;5;66;03m#ax[0,0].scatter(x_HLLD, HLLD_tests[i][-1], s=3,c=colours[i], marker=markers[i], label=f'HLLD_{space_numbers[i]}')\u001b[39;00m\n\u001b[0;32m     15\u001b[0m ax[\u001b[38;5;241m0\u001b[39m]\u001b[38;5;241m.\u001b[39mset_xlabel(\u001b[38;5;124m'\u001b[39m\u001b[38;5;124mx\u001b[39m\u001b[38;5;124m'\u001b[39m)\n",
      "File \u001b[1;32mD:\\Conda\\lib\\site-packages\\matplotlib\\axes\\_axes.py:1688\u001b[0m, in \u001b[0;36mAxes.plot\u001b[1;34m(self, scalex, scaley, data, *args, **kwargs)\u001b[0m\n\u001b[0;32m   1445\u001b[0m \u001b[38;5;250m\u001b[39m\u001b[38;5;124;03m\"\"\"\u001b[39;00m\n\u001b[0;32m   1446\u001b[0m \u001b[38;5;124;03mPlot y versus x as lines and/or markers.\u001b[39;00m\n\u001b[0;32m   1447\u001b[0m \n\u001b[1;32m   (...)\u001b[0m\n\u001b[0;32m   1685\u001b[0m \u001b[38;5;124;03m(``'green'``) or hex strings (``'#008000'``).\u001b[39;00m\n\u001b[0;32m   1686\u001b[0m \u001b[38;5;124;03m\"\"\"\u001b[39;00m\n\u001b[0;32m   1687\u001b[0m kwargs \u001b[38;5;241m=\u001b[39m cbook\u001b[38;5;241m.\u001b[39mnormalize_kwargs(kwargs, mlines\u001b[38;5;241m.\u001b[39mLine2D)\n\u001b[1;32m-> 1688\u001b[0m lines \u001b[38;5;241m=\u001b[39m [\u001b[38;5;241m*\u001b[39m\u001b[38;5;28mself\u001b[39m\u001b[38;5;241m.\u001b[39m_get_lines(\u001b[38;5;241m*\u001b[39margs, data\u001b[38;5;241m=\u001b[39mdata, \u001b[38;5;241m*\u001b[39m\u001b[38;5;241m*\u001b[39mkwargs)]\n\u001b[0;32m   1689\u001b[0m \u001b[38;5;28;01mfor\u001b[39;00m line \u001b[38;5;129;01min\u001b[39;00m lines:\n\u001b[0;32m   1690\u001b[0m     \u001b[38;5;28mself\u001b[39m\u001b[38;5;241m.\u001b[39madd_line(line)\n",
      "File \u001b[1;32mD:\\Conda\\lib\\site-packages\\matplotlib\\axes\\_base.py:311\u001b[0m, in \u001b[0;36m_process_plot_var_args.__call__\u001b[1;34m(self, data, *args, **kwargs)\u001b[0m\n\u001b[0;32m    309\u001b[0m     this \u001b[38;5;241m+\u001b[39m\u001b[38;5;241m=\u001b[39m args[\u001b[38;5;241m0\u001b[39m],\n\u001b[0;32m    310\u001b[0m     args \u001b[38;5;241m=\u001b[39m args[\u001b[38;5;241m1\u001b[39m:]\n\u001b[1;32m--> 311\u001b[0m \u001b[38;5;28;01myield from\u001b[39;00m \u001b[38;5;28;43mself\u001b[39;49m\u001b[38;5;241;43m.\u001b[39;49m\u001b[43m_plot_args\u001b[49m\u001b[43m(\u001b[49m\n\u001b[0;32m    312\u001b[0m \u001b[43m    \u001b[49m\u001b[43mthis\u001b[49m\u001b[43m,\u001b[49m\u001b[43m \u001b[49m\u001b[43mkwargs\u001b[49m\u001b[43m,\u001b[49m\u001b[43m \u001b[49m\u001b[43mambiguous_fmt_datakey\u001b[49m\u001b[38;5;241;43m=\u001b[39;49m\u001b[43mambiguous_fmt_datakey\u001b[49m\u001b[43m)\u001b[49m\n",
      "File \u001b[1;32mD:\\Conda\\lib\\site-packages\\matplotlib\\axes\\_base.py:504\u001b[0m, in \u001b[0;36m_process_plot_var_args._plot_args\u001b[1;34m(self, tup, kwargs, return_kwargs, ambiguous_fmt_datakey)\u001b[0m\n\u001b[0;32m    501\u001b[0m     \u001b[38;5;28mself\u001b[39m\u001b[38;5;241m.\u001b[39maxes\u001b[38;5;241m.\u001b[39myaxis\u001b[38;5;241m.\u001b[39mupdate_units(y)\n\u001b[0;32m    503\u001b[0m \u001b[38;5;28;01mif\u001b[39;00m x\u001b[38;5;241m.\u001b[39mshape[\u001b[38;5;241m0\u001b[39m] \u001b[38;5;241m!=\u001b[39m y\u001b[38;5;241m.\u001b[39mshape[\u001b[38;5;241m0\u001b[39m]:\n\u001b[1;32m--> 504\u001b[0m     \u001b[38;5;28;01mraise\u001b[39;00m \u001b[38;5;167;01mValueError\u001b[39;00m(\u001b[38;5;124mf\u001b[39m\u001b[38;5;124m\"\u001b[39m\u001b[38;5;124mx and y must have same first dimension, but \u001b[39m\u001b[38;5;124m\"\u001b[39m\n\u001b[0;32m    505\u001b[0m                      \u001b[38;5;124mf\u001b[39m\u001b[38;5;124m\"\u001b[39m\u001b[38;5;124mhave shapes \u001b[39m\u001b[38;5;132;01m{\u001b[39;00mx\u001b[38;5;241m.\u001b[39mshape\u001b[38;5;132;01m}\u001b[39;00m\u001b[38;5;124m and \u001b[39m\u001b[38;5;132;01m{\u001b[39;00my\u001b[38;5;241m.\u001b[39mshape\u001b[38;5;132;01m}\u001b[39;00m\u001b[38;5;124m\"\u001b[39m)\n\u001b[0;32m    506\u001b[0m \u001b[38;5;28;01mif\u001b[39;00m x\u001b[38;5;241m.\u001b[39mndim \u001b[38;5;241m>\u001b[39m \u001b[38;5;241m2\u001b[39m \u001b[38;5;129;01mor\u001b[39;00m y\u001b[38;5;241m.\u001b[39mndim \u001b[38;5;241m>\u001b[39m \u001b[38;5;241m2\u001b[39m:\n\u001b[0;32m    507\u001b[0m     \u001b[38;5;28;01mraise\u001b[39;00m \u001b[38;5;167;01mValueError\u001b[39;00m(\u001b[38;5;124mf\u001b[39m\u001b[38;5;124m\"\u001b[39m\u001b[38;5;124mx and y can be no greater than 2D, but have \u001b[39m\u001b[38;5;124m\"\u001b[39m\n\u001b[0;32m    508\u001b[0m                      \u001b[38;5;124mf\u001b[39m\u001b[38;5;124m\"\u001b[39m\u001b[38;5;124mshapes \u001b[39m\u001b[38;5;132;01m{\u001b[39;00mx\u001b[38;5;241m.\u001b[39mshape\u001b[38;5;132;01m}\u001b[39;00m\u001b[38;5;124m and \u001b[39m\u001b[38;5;132;01m{\u001b[39;00my\u001b[38;5;241m.\u001b[39mshape\u001b[38;5;132;01m}\u001b[39;00m\u001b[38;5;124m\"\u001b[39m)\n",
      "\u001b[1;31mValueError\u001b[0m: x and y must have same first dimension, but have shapes (1025,) and (65,)"
     ]
    },
    {
     "data": {
      "image/png": "[encoded data removed]",
      "text/plain": [
       "<Figure size 900x1000 with 3 Axes>"
      ]
     },
     "metadata": {},
     "output_type": "display_data"
    }
   ],
   "source": [
    "fig, ax = plt.subplots(nrows=3, ncols=1,figsize=(9, 10))\n",
    "\n",
    "space_numbers.reverse()\n",
    "\n",
    "colours = ['b','g','r','c','m']\n",
    "markers = ['o', 'v', '*', 'd', 's']\n",
    "#ax[0] = fig.add_subplot(321)\n",
    "\n",
    "for i in range(5):\n",
    "    x_HLL = np.arange(0, 1/cos(pi/6), h_HLLs[i])\n",
    "    if(len(x_HLL) != len(HLL_tests[2][i][-1])):\n",
    "        x_HLL = np.arange(0, 1/cos(pi/6)+ h_HLLs[i], h_HLLs[i])\n",
    "    ax[0].plot(x_HLL, HLL_tests[2][i][-1], c=colours[i], marker=markers[i], label=f'HLL_{space_numbers[i]}')\n",
    "    #ax[0,0].scatter(x_HLLD, HLLD_tests[i][-1], s=3,c=colours[i], marker=markers[i], label=f'HLLD_{space_numbers[i]}')\n",
    "ax[0].set_xlabel('x')\n",
    "ax[0].set_ylabel(r'$B_{\\perp}$', rotation=0)\n",
    "ax[0].legend(loc='center left', bbox_to_anchor=(1, 0.5))\n",
    "ax[0].grid(alpha=0.2)\n",
    "\n",
    "for i in range(5):\n",
    "    x_HLLC = np.arange(0, 1/cos(pi/6), h_HLLCs[i])\n",
    "    if(len(x_HLLC) != len(HLLC_tests[2][i][-1])):\n",
    "        x_HLLC = np.arange(0, 1/cos(pi/6)+ h_HLLCs[i], h_HLLCs[i])\n",
    "    ax[1].plot(x_HLLC, HLLC_tests[2][i][-1], c=colours[i], marker=markers[i], label=f'HLLC_{space_numbers[i]}')\n",
    "ax[1].set_xlabel('x')\n",
    "ax[1].set_ylabel(r'$B_{\\perp}$', rotation=0)\n",
    "ax[1].legend(loc='center left', bbox_to_anchor=(1, 0.5))\n",
    "ax[1].grid(alpha=0.2)\n",
    "\n",
    "\n",
    "for i in range(5):\n",
    "    x_HLLD = np.arange(0, 1/cos(pi/6), h_HLLDs[i])\n",
    "    if(len(x_HLLD) != len(HLLD_tests[2][i][-1])):\n",
    "        x_HLLD = np.arange(0, 1/cos(pi/6)+ h_HLLDs[i], h_HLLDs[i])\n",
    "    ax[2].plot(x_HLLD, HLLD_tests[2][i][-1], c=colours[i], marker=markers[i], label=f'HLLD_{space_numbers[i]}')\n",
    "ax[2].set_xlabel('x')\n",
    "ax[2].set_ylabel(r'$B_{\\perp}$', rotation=0)\n",
    "ax[2].legend(loc='center left', bbox_to_anchor=(1, 0.5))\n",
    "ax[2].grid(alpha=0.2)\n",
    "\n",
    "fig.tight_layout()\n",
    "\n",
    "#plt.savefig(f\"./OutputData/BrioNet.pdf\", format=\"pdf\", bbox_inches=\"tight\")\n",
    "plt.show()"
   ]
  },
  {
   "cell_type": "code",
   "execution_count": 45,
   "id": "76ad3f9f",
   "metadata": {},
   "outputs": [],
   "source": [
    "from math import log2\n",
    "\n",
    "def delta_err(psi, psi_e):\n",
    "    sum_psie = 0\n",
    "    sum_diffs = 0\n",
    "    for i in range(len(psi)):\n",
    "        sum_psie += abs(psi_e[i])\n",
    "        sum_diffs += abs(psi[i]-psi_e[i])\n",
    "    return sum_diffs / sum_psie\n",
    "def R_conv_speed(delta1, delta2):\n",
    "    return log2(delta1/delta2)"
   ]
  },
  {
   "cell_type": "markdown",
   "id": "6abd6a06",
   "metadata": {},
   "source": [
    "# Сходимость и погрешность"
   ]
  },
  {
   "cell_type": "code",
   "execution_count": 46,
   "id": "e4cb131b",
   "metadata": {},
   "outputs": [],
   "source": [
    "HLL_tests[2].reverse()\n",
    "vy_exact_HLL = HLL_tests[0][4][-1]\n",
    "wy_exact_HLL = HLL_tests[1][4][-1]\n",
    "By_exact_HLL = HLL_tests[2][4][-1]\n",
    "Bz_exact_HLL = HLL_tests[3][4][-1]"
   ]
  },
  {
   "cell_type": "code",
   "execution_count": 47,
   "id": "8fe4ce19",
   "metadata": {
    "scrolled": false
   },
   "outputs": [],
   "source": [
    "deltas_v_HLL = [delta_err(HLL_tests[0][i][-1], vy_exact_HLL[0::2**(4-i)]) for i in range(4)]\n",
    "deltas_w_HLL = [delta_err(HLL_tests[1][i][-1], wy_exact_HLL[0::2**(4-i)]) for i in range(4)]\n",
    "deltas_By_HLL = [delta_err(HLL_tests[2][i][-1], By_exact_HLL[0::2**(4-i)]) for i in range(4)]\n",
    "deltas_Bz_HLL = [delta_err(HLL_tests[3][i][-1], Bz_exact_HLL[0::2**(4-i)]) for i in range(4)]"
   ]
  },
  {
   "cell_type": "code",
   "execution_count": 48,
   "id": "ac41a74c",
   "metadata": {},
   "outputs": [],
   "source": [
    "deltas_HLL = [0.25*(deltas_v_HLL[i] + deltas_w_HLL[i] + deltas_By_HLL[i] + deltas_Bz_HLL[i]) for i in range(4)]"
   ]
  },
  {
   "cell_type": "code",
   "execution_count": 49,
   "id": "f4a5b745",
   "metadata": {
    "scrolled": true
   },
   "outputs": [],
   "source": [
    "Rns_HLL = [R_conv_speed(deltas_HLL[i], deltas_HLL[i+1]) for i in range(3)]"
   ]
  },
  {
   "cell_type": "code",
   "execution_count": 50,
   "id": "8ef69b7f",
   "metadata": {},
   "outputs": [],
   "source": [
    "HLLC_tests[2].reverse()\n",
    "vy_exact_HLLC = HLLC_tests[0][4][-1]\n",
    "wy_exact_HLLC = HLLC_tests[1][4][-1]\n",
    "By_exact_HLLC = HLLC_tests[2][4][-1]\n",
    "Bz_exact_HLLC = HLLC_tests[3][4][-1]"
   ]
  },
  {
   "cell_type": "code",
   "execution_count": 51,
   "id": "dd78e51c",
   "metadata": {
    "scrolled": false
   },
   "outputs": [],
   "source": [
    "deltas_v_HLLC = [delta_err(HLLC_tests[0][i][-1], vy_exact_HLLC[0::2**(4-i)]) for i in range(4)]\n",
    "deltas_w_HLLC = [delta_err(HLLC_tests[1][i][-1], wy_exact_HLLC[0::2**(4-i)]) for i in range(4)]\n",
    "deltas_By_HLLC = [delta_err(HLLC_tests[2][i][-1], By_exact_HLLC[0::2**(4-i)]) for i in range(4)]\n",
    "deltas_Bz_HLLC = [delta_err(HLLC_tests[3][i][-1], Bz_exact_HLLC[0::2**(4-i)]) for i in range(4)]"
   ]
  },
  {
   "cell_type": "code",
   "execution_count": 52,
   "id": "3e46ed65",
   "metadata": {},
   "outputs": [],
   "source": [
    "deltas_HLLC = [0.25*(deltas_v_HLLC[i] + deltas_w_HLLC[i] + deltas_By_HLLC[i] + deltas_Bz_HLLC[i]) for i in range(4)]"
   ]
  },
  {
   "cell_type": "code",
   "execution_count": 53,
   "id": "ab50dd87",
   "metadata": {
    "scrolled": true
   },
   "outputs": [],
   "source": [
    "Rns_HLLC = [R_conv_speed(deltas_HLLC[i], deltas_HLLC[i+1]) for i in range(3)]"
   ]
  },
  {
   "cell_type": "code",
   "execution_count": 54,
   "id": "5b485d45",
   "metadata": {},
   "outputs": [],
   "source": [
    "HLLD_tests[2].reverse()\n",
    "vy_exact_HLLD = HLLD_tests[0][4][-1]\n",
    "wy_exact_HLLD = HLLD_tests[1][4][-1]\n",
    "By_exact_HLLD = HLLD_tests[2][4][-1]\n",
    "Bz_exact_HLLD = HLLD_tests[3][4][-1]"
   ]
  },
  {
   "cell_type": "code",
   "execution_count": 55,
   "id": "76b91b10",
   "metadata": {
    "scrolled": false
   },
   "outputs": [],
   "source": [
    "deltas_v_HLLD = [delta_err(HLLD_tests[0][i][-1], vy_exact_HLLD[0::2**(4-i)]) for i in range(4)]\n",
    "deltas_w_HLLD = [delta_err(HLLD_tests[1][i][-1], wy_exact_HLLD[0::2**(4-i)]) for i in range(4)]\n",
    "deltas_By_HLLD = [delta_err(HLLD_tests[2][i][-1], By_exact_HLLD[0::2**(4-i)]) for i in range(4)]\n",
    "deltas_Bz_HLLD = [delta_err(HLLD_tests[3][i][-1], Bz_exact_HLLD[0::2**(4-i)]) for i in range(4)]"
   ]
  },
  {
   "cell_type": "code",
   "execution_count": 56,
   "id": "ab7bdee5",
   "metadata": {},
   "outputs": [],
   "source": [
    "deltas_HLLD = [0.25*(deltas_v_HLLD[i] + deltas_w_HLLD[i] + deltas_By_HLLD[i] + deltas_Bz_HLLD[i]) for i in range(4)]"
   ]
  },
  {
   "cell_type": "code",
   "execution_count": 57,
   "id": "963f8031",
   "metadata": {
    "scrolled": true
   },
   "outputs": [],
   "source": [
    "Rns_HLLD = [R_conv_speed(deltas_HLLD[i], deltas_HLLD[i+1]) for i in range(3)]"
   ]
  },
  {
   "cell_type": "code",
   "execution_count": 58,
   "id": "da1b84fd",
   "metadata": {},
   "outputs": [],
   "source": [
    "import pandas as pd"
   ]
  },
  {
   "cell_type": "code",
   "execution_count": 62,
   "id": "07eeafe1",
   "metadata": {},
   "outputs": [
    {
     "data": {
      "text/html": [
       "<div>\n",
       "<style scoped>\n",
       "    .dataframe tbody tr th:only-of-type {\n",
       "        vertical-align: middle;\n",
       "    }\n",
       "\n",
       "    .dataframe tbody tr th {\n",
       "        vertical-align: top;\n",
       "    }\n",
       "\n",
       "    .dataframe thead tr th {\n",
       "        text-align: left;\n",
       "    }\n",
       "\n",
       "    .dataframe thead tr:last-of-type th {\n",
       "        text-align: right;\n",
       "    }\n",
       "</style>\n",
       "<table border=\"1\" class=\"dataframe\">\n",
       "  <thead>\n",
       "    <tr>\n",
       "      <th></th>\n",
       "      <th colspan=\"2\" halign=\"left\">HLL</th>\n",
       "      <th colspan=\"2\" halign=\"left\">HLLC</th>\n",
       "      <th colspan=\"2\" halign=\"left\">HLLD</th>\n",
       "    </tr>\n",
       "    <tr>\n",
       "      <th></th>\n",
       "      <th>$\\delta_N$</th>\n",
       "      <th>R_N</th>\n",
       "      <th>$\\delta_N$</th>\n",
       "      <th>R_N</th>\n",
       "      <th>$\\delta_N$</th>\n",
       "      <th>R_N</th>\n",
       "    </tr>\n",
       "    <tr>\n",
       "      <th>$N$</th>\n",
       "      <th></th>\n",
       "      <th></th>\n",
       "      <th></th>\n",
       "      <th></th>\n",
       "      <th></th>\n",
       "      <th></th>\n",
       "    </tr>\n",
       "  </thead>\n",
       "  <tbody>\n",
       "    <tr>\n",
       "      <th>64</th>\n",
       "      <td>0.302771</td>\n",
       "      <td>-</td>\n",
       "      <td>0.265600</td>\n",
       "      <td>-</td>\n",
       "      <td>0.199094</td>\n",
       "      <td>-</td>\n",
       "    </tr>\n",
       "    <tr>\n",
       "      <th>128</th>\n",
       "      <td>0.214034</td>\n",
       "      <td>0.500389</td>\n",
       "      <td>0.148445</td>\n",
       "      <td>0.839325</td>\n",
       "      <td>0.141322</td>\n",
       "      <td>0.494463</td>\n",
       "    </tr>\n",
       "    <tr>\n",
       "      <th>256</th>\n",
       "      <td>0.129705</td>\n",
       "      <td>0.722606</td>\n",
       "      <td>0.077398</td>\n",
       "      <td>0.939561</td>\n",
       "      <td>0.081178</td>\n",
       "      <td>0.799816</td>\n",
       "    </tr>\n",
       "    <tr>\n",
       "      <th>512</th>\n",
       "      <td>0.055821</td>\n",
       "      <td>1.216365</td>\n",
       "      <td>0.036169</td>\n",
       "      <td>1.097534</td>\n",
       "      <td>0.033738</td>\n",
       "      <td>1.266706</td>\n",
       "    </tr>\n",
       "  </tbody>\n",
       "</table>\n",
       "</div>"
      ],
      "text/plain": [
       "           HLL                 HLLC                 HLLD          \n",
       "    $\\delta_N$       R_N $\\delta_N$       R_N $\\delta_N$       R_N\n",
       "$N$                                                               \n",
       "64    0.302771         -   0.265600         -   0.199094         -\n",
       "128   0.214034  0.500389   0.148445  0.839325   0.141322  0.494463\n",
       "256   0.129705  0.722606   0.077398  0.939561   0.081178  0.799816\n",
       "512   0.055821  1.216365   0.036169  1.097534   0.033738  1.266706"
      ]
     },
     "execution_count": 62,
     "metadata": {},
     "output_type": "execute_result"
    }
   ],
   "source": [
    "listmy = [[deltas_HLL[i], Rns_HLL[i-1],deltas_HLLC[i], Rns_HLLC[i-1],deltas_HLLD[i], Rns_HLLD[i-1]] for i in range(1,4)]\n",
    "listmy.insert(0,[deltas_HLL[0], '-',deltas_HLLC[0], '-',deltas_HLLD[0], '-'])\n",
    "df = pd.DataFrame(listmy,\n",
    "                  index=pd.Index(['64','128','256','512'], name=r'$N$'),\n",
    "                  columns=pd.MultiIndex.from_product([['HLL', 'HLLC', 'HLLD'],[r'$\\delta_N$', r'R_N']]))\n",
    "df"
   ]
  },
  {
   "cell_type": "code",
   "execution_count": 63,
   "id": "54897a24",
   "metadata": {},
   "outputs": [
    {
     "name": "stdout",
     "output_type": "stream",
     "text": [
      "\\begin{tabular}{lrlrlrl}\n",
      "\\toprule\n",
      " & \\multicolumn{2}{r}{HLL} & \\multicolumn{2}{r}{HLLC} & \\multicolumn{2}{r}{HLLD} \\\\\n",
      " & $\\delta_N$ & R_N & $\\delta_N$ & R_N & $\\delta_N$ & R_N \\\\\n",
      "$N$ &  &  &  &  &  &  \\\\\n",
      "\\midrule\n",
      "64 & 0.302771 & - & 0.265600 & - & 0.199094 & - \\\\\n",
      "128 & 0.214034 & 0.500389 & 0.148445 & 0.839325 & 0.141322 & 0.494463 \\\\\n",
      "256 & 0.129705 & 0.722606 & 0.077398 & 0.939561 & 0.081178 & 0.799816 \\\\\n",
      "512 & 0.055821 & 1.216365 & 0.036169 & 1.097534 & 0.033738 & 1.266706 \\\\\n",
      "\\bottomrule\n",
      "\\end{tabular}\n",
      "\n"
     ]
    }
   ],
   "source": [
    "print(df.to_latex())"
   ]
  },
  {
   "cell_type": "code",
   "execution_count": null,
   "id": "c4fdded4",
   "metadata": {},
   "outputs": [],
   "source": []
  }
 ],
 "metadata": {
  "kernelspec": {
   "display_name": "Python 3 (ipykernel)",
   "language": "python",
   "name": "python3"
  },
  "language_info": {
   "codemirror_mode": {
    "name": "ipython",
    "version": 3
   },
   "file_extension": ".py",
   "mimetype": "text/x-python",
   "name": "python",
   "nbconvert_exporter": "python",
   "pygments_lexer": "ipython3",
   "version": "3.9.17"
  }
 },
 "nbformat": 4,
 "nbformat_minor": 5
}
